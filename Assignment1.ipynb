{
 "cells": [
  {
   "cell_type": "code",
   "execution_count": 3,
   "id": "faaf6e60-1796-4b64-a349-f3c0f6e6134f",
   "metadata": {},
   "outputs": [
    {
     "name": "stdin",
     "output_type": "stream",
     "text": [
      "Enter the First number: 8\n",
      "Enter the second number 2\n"
     ]
    },
    {
     "name": "stdout",
     "output_type": "stream",
     "text": [
      "Addition: 10\n",
      "Subtraction: 6\n",
      "Multiplication: 16\n",
      "division: 4.0\n"
     ]
    }
   ],
   "source": [
    "###basic arithmatic operation\n",
    "\n",
    "a = input(\"Enter the First number:\")\n",
    "a = int(a)\n",
    "b = input(\"Enter the second number\")\n",
    "b = int(b)\n",
    "\n",
    "print(\"Addition:\" , a+b)\n",
    "print(\"Subtraction:\", a-b)\n",
    "print(\"Multiplication:\",a*b)\n",
    "print(\"division:\",a/b)"
   ]
  },
  {
   "cell_type": "code",
   "execution_count": 11,
   "id": "5eb2d84f-8c78-4652-9330-92831db82658",
   "metadata": {},
   "outputs": [
    {
     "name": "stdin",
     "output_type": "stream",
     "text": [
      "Enter your first name: Vanithadevi\n",
      "Enter your last name: Raja\n"
     ]
    },
    {
     "name": "stdout",
     "output_type": "stream",
     "text": [
      "Hello, Vanithadevi Raja ! Welcome to the python program.\n"
     ]
    }
   ],
   "source": [
    "####personalized greeting\n",
    "\n",
    "Fname = input(\"Enter your first name:\")\n",
    "Lname = input(\"Enter your last name:\")\n",
    "\n",
    "print(\"Hello,\",Fname,Lname,\"! Welcome to the python program.\")\n"
   ]
  },
  {
   "cell_type": "code",
   "execution_count": null,
   "id": "46d88265-021b-4019-af70-4514fa79abf1",
   "metadata": {},
   "outputs": [],
   "source": []
  }
 ],
 "metadata": {
  "kernelspec": {
   "display_name": "chatbot",
   "language": "python",
   "name": "chatbot"
  },
  "language_info": {
   "codemirror_mode": {
    "name": "ipython",
    "version": 3
   },
   "file_extension": ".py",
   "mimetype": "text/x-python",
   "name": "python",
   "nbconvert_exporter": "python",
   "pygments_lexer": "ipython3",
   "version": "3.12.7"
  }
 },
 "nbformat": 4,
 "nbformat_minor": 5
}
