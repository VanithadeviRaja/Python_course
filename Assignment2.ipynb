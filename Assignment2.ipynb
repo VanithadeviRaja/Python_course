{
 "cells": [
  {
   "cell_type": "code",
   "execution_count": 3,
   "id": "78d9341e-0a7f-4477-930e-38c94bb3a2bc",
   "metadata": {},
   "outputs": [
    {
     "name": "stdin",
     "output_type": "stream",
     "text": [
      "Enter a number: 12\n"
     ]
    },
    {
     "name": "stdout",
     "output_type": "stream",
     "text": [
      "12 is an even number\n"
     ]
    }
   ],
   "source": [
    "###if else loop\n",
    "a = input(\"Enter a number:\")\n",
    "a = int(a)\n",
    "\n",
    "if (a%2) == 1:\n",
    "    print(a,\"is an odd number\")\n",
    "else:\n",
    "    print(a,\"is an even number\")"
   ]
  },
  {
   "cell_type": "code",
   "execution_count": 9,
   "id": "f3b971ea-1260-4ed2-b91c-a19fb70cf47b",
   "metadata": {},
   "outputs": [
    {
     "name": "stdout",
     "output_type": "stream",
     "text": [
      "The sum of numbers from 1 to 50: 1275\n"
     ]
    }
   ],
   "source": [
    "###sum of range 1-50\n",
    "count = 0\n",
    "for i in range(1,51):\n",
    "    count+=i\n",
    "print(\"The sum of numbers from 1 to 50:\",count)\n",
    "    "
   ]
  },
  {
   "cell_type": "code",
   "execution_count": null,
   "id": "105cb692-44bd-4d72-961b-e9bc9f65560b",
   "metadata": {},
   "outputs": [],
   "source": []
  }
 ],
 "metadata": {
  "kernelspec": {
   "display_name": "chatbot",
   "language": "python",
   "name": "chatbot"
  },
  "language_info": {
   "codemirror_mode": {
    "name": "ipython",
    "version": 3
   },
   "file_extension": ".py",
   "mimetype": "text/x-python",
   "name": "python",
   "nbconvert_exporter": "python",
   "pygments_lexer": "ipython3",
   "version": "3.12.7"
  }
 },
 "nbformat": 4,
 "nbformat_minor": 5
}
