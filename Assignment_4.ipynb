{
 "cells": [
  {
   "cell_type": "code",
   "execution_count": 1,
   "id": "6098dc26-4bd1-4f3b-8620-efe633bfe8b9",
   "metadata": {},
   "outputs": [
    {
     "name": "stdout",
     "output_type": "stream",
     "text": [
      "This is sample text file\n",
      "\n",
      "Trying different methods of python\n",
      "\n",
      "exception handling\n",
      "\n",
      "\n",
      "\n"
     ]
    }
   ],
   "source": [
    "try:\n",
    "    sample = open(\"Documents/sample.txt\",'r')\n",
    "    read = sample.readlines()\n",
    "    for i in read:\n",
    "        print(i)\n",
    "except:\n",
    "    print(\"sample.txt file does not exist\")\n"
   ]
  },
  {
   "cell_type": "code",
   "execution_count": null,
   "id": "305622bf-4e99-4423-a32c-ad0e34a5cb47",
   "metadata": {},
   "outputs": [],
   "source": []
  }
 ],
 "metadata": {
  "kernelspec": {
   "display_name": "chatbot",
   "language": "python",
   "name": "chatbot"
  },
  "language_info": {
   "codemirror_mode": {
    "name": "ipython",
    "version": 3
   },
   "file_extension": ".py",
   "mimetype": "text/x-python",
   "name": "python",
   "nbconvert_exporter": "python",
   "pygments_lexer": "ipython3",
   "version": "3.12.7"
  }
 },
 "nbformat": 4,
 "nbformat_minor": 5
}
