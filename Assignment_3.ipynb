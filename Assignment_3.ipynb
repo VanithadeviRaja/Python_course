{
 "cells": [
  {
   "cell_type": "code",
   "execution_count": 8,
   "id": "674306c8-3724-47f2-995f-5f4d2647b6c8",
   "metadata": {},
   "outputs": [
    {
     "name": "stdin",
     "output_type": "stream",
     "text": [
      "Enter any number: 7\n"
     ]
    },
    {
     "name": "stdout",
     "output_type": "stream",
     "text": [
      "Factorial of 7 is 5040\n"
     ]
    }
   ],
   "source": [
    "number = input(\"Enter any number:\")\n",
    "number = int(number)\n",
    "\n",
    "def factorial(x):\n",
    "    if x<2:\n",
    "        return 1\n",
    "    else:\n",
    "        return (x*factorial(x-1))\n",
    "\n",
    "res = factorial(number)\n",
    "print(\"Factorial of\",number,\"is\",res)"
   ]
  },
  {
   "cell_type": "code",
   "execution_count": 14,
   "id": "d60de0d4-346a-4926-a6b5-670f8794c1e6",
   "metadata": {},
   "outputs": [
    {
     "name": "stdin",
     "output_type": "stream",
     "text": [
      "Enter any number 25\n"
     ]
    },
    {
     "name": "stdout",
     "output_type": "stream",
     "text": [
      "Square root of the given number25 is:5.0 \n",
      "Natural log of the given number25 is:3.2188758248682006 \n",
      "sine value of the given number25 in radiance is:0.05617998135679847 \n"
     ]
    }
   ],
   "source": [
    "import math\n",
    "\n",
    "ip = input(\"Enter any number\")\n",
    "ip = int(ip)\n",
    "\n",
    "sq_rt = math.sqrt(ip)\n",
    "natural_log = math.log(ip)\n",
    "sine = math.radians(math.log(ip))\n",
    "\n",
    "print(f\"Square root of the given number{ip} is:{sq_rt} \")\n",
    "print(f\"Natural log of the given number{ip} is:{natural_log} \")\n",
    "print(f\"sine value of the given number{ip} in radiance is:{sine} \")"
   ]
  },
  {
   "cell_type": "code",
   "execution_count": null,
   "id": "de36e610-1f48-4723-b421-4f9e8d1137f1",
   "metadata": {},
   "outputs": [],
   "source": []
  }
 ],
 "metadata": {
  "kernelspec": {
   "display_name": "chatbot",
   "language": "python",
   "name": "chatbot"
  },
  "language_info": {
   "codemirror_mode": {
    "name": "ipython",
    "version": 3
   },
   "file_extension": ".py",
   "mimetype": "text/x-python",
   "name": "python",
   "nbconvert_exporter": "python",
   "pygments_lexer": "ipython3",
   "version": "3.12.7"
  }
 },
 "nbformat": 4,
 "nbformat_minor": 5
}
