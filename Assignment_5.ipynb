{
 "cells": [
  {
   "cell_type": "code",
   "execution_count": 27,
   "id": "4248eee4-67e4-401e-a903-2709d717a547",
   "metadata": {},
   "outputs": [],
   "source": [
    "dictionary = {'Alice':50,'Mary':70,'Bob':80,'cane':45,'liya':90}"
   ]
  },
  {
   "cell_type": "code",
   "execution_count": 35,
   "id": "50655620-46c6-4049-85ff-d32cc85895ac",
   "metadata": {},
   "outputs": [
    {
     "name": "stdin",
     "output_type": "stream",
     "text": [
      "Enter a name of a student vanitha\n"
     ]
    },
    {
     "name": "stdout",
     "output_type": "stream",
     "text": [
      "Given student name vanitha does not exist\n"
     ]
    }
   ],
   "source": [
    "ip = input(\"Enter a name of a student\")\n",
    "\n",
    "if ip in dictionary.keys():\n",
    "    marks = dictionary[ip]\n",
    "    print(f\"{name}'s Mark is:{marks}\")\n",
    "else:\n",
    "    print(f\"Given student name {ip} does not exist\")"
   ]
  },
  {
   "cell_type": "code",
   "execution_count": 37,
   "id": "e80b70d1-c916-4785-9c70-29c3c1cca773",
   "metadata": {},
   "outputs": [],
   "source": [
    "list_mar = list(range(1,11))\n"
   ]
  },
  {
   "cell_type": "code",
   "execution_count": 93,
   "id": "196ff215-0e1f-496e-9453-f349743fb5bd",
   "metadata": {},
   "outputs": [
    {
     "name": "stdout",
     "output_type": "stream",
     "text": [
      "[5, 4, 3, 2, 1]\n"
     ]
    }
   ],
   "source": [
    "list_sl = list_mar[:5]\n",
    "op = list_sl[::-1]\n",
    "print(op)"
   ]
  }
 ],
 "metadata": {
  "kernelspec": {
   "display_name": "chatbot",
   "language": "python",
   "name": "chatbot"
  },
  "language_info": {
   "codemirror_mode": {
    "name": "ipython",
    "version": 3
   },
   "file_extension": ".py",
   "mimetype": "text/x-python",
   "name": "python",
   "nbconvert_exporter": "python",
   "pygments_lexer": "ipython3",
   "version": "3.12.7"
  }
 },
 "nbformat": 4,
 "nbformat_minor": 5
}
